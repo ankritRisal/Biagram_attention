{
  "nbformat": 4,
  "nbformat_minor": 0,
  "metadata": {
    "colab": {
      "provenance": []
    },
    "kernelspec": {
      "name": "python3",
      "display_name": "Python 3"
    },
    "language_info": {
      "name": "python"
    }
  },
  "cells": [
    {
      "cell_type": "code",
      "execution_count": 1,
      "metadata": {
        "id": "Bvh6YNgqdPz4"
      },
      "outputs": [],
      "source": [
        "import torch\n",
        "import torch.nn as nn\n",
        "import torch.nn.functional as F"
      ]
    },
    {
      "cell_type": "code",
      "source": [
        "# hyperparameter\n",
        "batch_size = 4\n",
        "block_size = 8\n",
        "max_iters = 10000\n",
        "eval_iters = 1000\n",
        "eval_interval = 300\n",
        "\n",
        "learning_rate = 1e-3\n",
        "device = torch.device('cuda' if torch.cuda.is_available() else 'cpu')\n",
        "torch.manual_seed(1337)\n"
      ],
      "metadata": {
        "colab": {
          "base_uri": "https://localhost:8080/"
        },
        "id": "WFdEY6UsdZJ0",
        "outputId": "957729bb-a9c0-4c2d-f19e-fa009030cc3f"
      },
      "execution_count": 2,
      "outputs": [
        {
          "output_type": "execute_result",
          "data": {
            "text/plain": [
              "<torch._C.Generator at 0x7ed8d0b3a5f0>"
            ]
          },
          "metadata": {},
          "execution_count": 2
        }
      ]
    },
    {
      "cell_type": "code",
      "source": [
        "!wget https://raw.githubusercontent.com/karpathy/char-rnn/master/data/tinyshakespeare/input.txt"
      ],
      "metadata": {
        "colab": {
          "base_uri": "https://localhost:8080/"
        },
        "id": "lBWXLiAQezBr",
        "outputId": "de95814e-45c8-4a38-dba0-843135d989e6"
      },
      "execution_count": 3,
      "outputs": [
        {
          "output_type": "stream",
          "name": "stdout",
          "text": [
            "--2025-07-26 16:27:50--  https://raw.githubusercontent.com/karpathy/char-rnn/master/data/tinyshakespeare/input.txt\n",
            "Resolving raw.githubusercontent.com (raw.githubusercontent.com)... 185.199.108.133, 185.199.110.133, 185.199.109.133, ...\n",
            "Connecting to raw.githubusercontent.com (raw.githubusercontent.com)|185.199.108.133|:443... connected.\n",
            "HTTP request sent, awaiting response... 200 OK\n",
            "Length: 1115394 (1.1M) [text/plain]\n",
            "Saving to: ‘input.txt.2’\n",
            "\n",
            "\rinput.txt.2           0%[                    ]       0  --.-KB/s               \rinput.txt.2         100%[===================>]   1.06M  --.-KB/s    in 0.04s   \n",
            "\n",
            "2025-07-26 16:27:50 (26.4 MB/s) - ‘input.txt.2’ saved [1115394/1115394]\n",
            "\n"
          ]
        }
      ]
    },
    {
      "cell_type": "code",
      "source": [
        "# read dataset\n",
        "with open('input.txt', 'r', encoding='utf-8') as f:\n",
        "  text = f.read()\n",
        "\n",
        "chars = sorted(list(set(text)))\n",
        "vocab_size = len(chars)\n",
        "# Mapping sets\n",
        "stoi = {ch:i for i ,ch in enumerate(chars)}\n",
        "itos = {i:ch for i, ch in enumerate(chars)}\n",
        "# encode str -> int\n",
        "encode = lambda s:[stoi[c] for c in s]\n",
        "# decode int -> str\n",
        "decode = lambda l:''.join([itos[i] for i in l])"
      ],
      "metadata": {
        "id": "ThXL83rWe15a"
      },
      "execution_count": 4,
      "outputs": []
    },
    {
      "cell_type": "code",
      "source": [
        "data = torch.tensor(encode(text), dtype = torch.long)\n",
        "# split into train and val\n",
        "n = int(0.9*len(data))\n",
        "train_data = data[:n]\n",
        "val_data = data[n:]\n",
        "\n",
        "def get_batch(split):\n",
        "  data = train_data if split == 'train' else val_data\n",
        "  ix = torch.randint(len(data)-block_size, (batch_size,)) # predicting the 1st encoded index\n",
        "  # print(f\"the ix is :{ix}\")\n",
        "  x = torch.stack([data[i:i+block_size] for i in ix])\n",
        "  y = torch.stack([data[i+1:i+block_size+1] for i in ix])\n",
        "  x,y = x.to(device), y.to(device)\n",
        "  return x, y\n",
        "\n",
        "@torch.no_grad()\n",
        "def estimate_loss():\n",
        "  out = {}\n",
        "  model.eval()\n",
        "  for split in ['train', 'val']:\n",
        "    losses = torch.zeros(eval_iters)\n",
        "    for k in range(eval_iters):\n",
        "      X, Y = get_batch(split)\n",
        "      logits, loss = model(X, Y)\n",
        "      losses[k] = loss.item()\n",
        "    out[split] = losses.mean()\n",
        "  model.train()\n",
        "  return out\n"
      ],
      "metadata": {
        "id": "C4BOkjc4fFPJ"
      },
      "execution_count": 5,
      "outputs": []
    },
    {
      "cell_type": "code",
      "source": [
        "class BiagramModel(nn.Module):\n",
        "\n",
        "  def __init__(self, vocab_size) -> None:\n",
        "    super().__init__()\n",
        "    self.token_embedding_table = nn.Embedding(vocab_size, vocab_size)\n",
        "\n",
        "  def forward(self, idx, target= None):\n",
        "\n",
        "    logits = self.token_embedding_table(idx)\n",
        "    if target is None:\n",
        "      loss = None\n",
        "    else:\n",
        "      B, T, C = logits.shape\n",
        "      logits = logits.view(B*T, C)\n",
        "      target = target.view(B*T)\n",
        "\n",
        "      loss = F.cross_entropy(logits, target) # special case for multiple dimensions\n",
        "\n",
        "    return logits , loss\n",
        "\n",
        "  def generate(self, idx, max_new_tokens):\n",
        "    for _ in range(max_new_tokens):\n",
        "      # getting the predictions\n",
        "      logits, loss = self(idx)\n",
        "      # focus on last time step\n",
        "      logits = logits[:, -1, :] # (B, C)\n",
        "      probs = F.softmax(logits, dim = -1) # (B, C)\n",
        "      idx_next = torch.multinomial(probs, num_samples=1) # (B, 1)\n",
        "      idx = torch.cat((idx, idx_next), dim = 1)# (B, T+1)\n",
        "    return idx"
      ],
      "metadata": {
        "id": "yHc7CTD9gD1Y"
      },
      "execution_count": 6,
      "outputs": []
    },
    {
      "cell_type": "code",
      "source": [
        "model = BiagramModel(vocab_size)\n",
        "m = model.to(device)\n",
        "# Model optimizer\n",
        "optimizer = torch.optim.AdamW(model.parameters(), lr = learning_rate)"
      ],
      "metadata": {
        "id": "0xhq9blHhUv7"
      },
      "execution_count": 7,
      "outputs": []
    },
    {
      "cell_type": "code",
      "source": [
        "# Training loop\n",
        "for iter in range(max_iters):\n",
        "  if iter % eval_interval == 0:\n",
        "    losses = estimate_loss()\n",
        "    print(f\"step{iter}: train loss {losses['train']:.4f}, val_loss {losses['val']:.4f}\")\n",
        "\n",
        "  xb, yb = get_batch('train')\n",
        "\n",
        "  # Evaluate loss\n",
        "  logits, loss = m(xb, yb)\n",
        "  optimizer.zero_grad(set_to_none= True)\n",
        "  loss.backward()\n",
        "  optimizer.step()"
      ],
      "metadata": {
        "colab": {
          "base_uri": "https://localhost:8080/"
        },
        "id": "gbl0CNLViPyN",
        "outputId": "0895b3ba-a4cd-499d-c5c2-a2d5b4c7c967"
      },
      "execution_count": 10,
      "outputs": [
        {
          "output_type": "stream",
          "name": "stdout",
          "text": [
            "step0: train loss 2.5467, val_loss 2.5557\n",
            "step300: train loss 2.5353, val_loss 2.5525\n",
            "step600: train loss 2.5228, val_loss 2.5419\n",
            "step900: train loss 2.5138, val_loss 2.5284\n",
            "step1200: train loss 2.5414, val_loss 2.5399\n",
            "step1500: train loss 2.5113, val_loss 2.5305\n",
            "step1800: train loss 2.5090, val_loss 2.5199\n",
            "step2100: train loss 2.5245, val_loss 2.5231\n",
            "step2400: train loss 2.5065, val_loss 2.5265\n",
            "step2700: train loss 2.5064, val_loss 2.5062\n",
            "step3000: train loss 2.5066, val_loss 2.5301\n",
            "step3300: train loss 2.4903, val_loss 2.5136\n",
            "step3600: train loss 2.4979, val_loss 2.5069\n",
            "step3900: train loss 2.4897, val_loss 2.4925\n",
            "step4200: train loss 2.4925, val_loss 2.4980\n",
            "step4500: train loss 2.4951, val_loss 2.4852\n",
            "step4800: train loss 2.4903, val_loss 2.4964\n",
            "step5100: train loss 2.4821, val_loss 2.5022\n",
            "step5400: train loss 2.4792, val_loss 2.4865\n",
            "step5700: train loss 2.4783, val_loss 2.4802\n",
            "step6000: train loss 2.4976, val_loss 2.4931\n",
            "step6300: train loss 2.4762, val_loss 2.4882\n",
            "step6600: train loss 2.4733, val_loss 2.4995\n",
            "step6900: train loss 2.4806, val_loss 2.4768\n",
            "step7200: train loss 2.4660, val_loss 2.4870\n",
            "step7500: train loss 2.4694, val_loss 2.4870\n",
            "step7800: train loss 2.4829, val_loss 2.4872\n",
            "step8100: train loss 2.4670, val_loss 2.4886\n",
            "step8400: train loss 2.4784, val_loss 2.4956\n",
            "step8700: train loss 2.4739, val_loss 2.4771\n",
            "step9000: train loss 2.4649, val_loss 2.4885\n",
            "step9300: train loss 2.4632, val_loss 2.4932\n",
            "step9600: train loss 2.4743, val_loss 2.4973\n",
            "step9900: train loss 2.4664, val_loss 2.4746\n"
          ]
        }
      ]
    },
    {
      "cell_type": "code",
      "source": [
        "# generate from model\n",
        "context = torch.zeros((1,1), dtype= torch.long, device = device)\n",
        "print(decode(m.generate(context, max_new_tokens= 100)[0].tolist()))"
      ],
      "metadata": {
        "colab": {
          "base_uri": "https://localhost:8080/"
        },
        "id": "9rELvAt-jenr",
        "outputId": "f30aafd9-d78b-47e9-ed80-5772b06d193c"
      },
      "execution_count": 11,
      "outputs": [
        {
          "output_type": "stream",
          "name": "stdout",
          "text": [
            "\n",
            "Anou trif werue.\n",
            "K berd owhow noe, han,\n",
            "TInolidyowathltay$SCERLOVk ploully im.\n",
            "GA Gaume f ler'e: me \n"
          ]
        }
      ]
    },
    {
      "cell_type": "code",
      "source": [],
      "metadata": {
        "id": "rMLBSk8zj26L"
      },
      "execution_count": 9,
      "outputs": []
    }
  ]
}